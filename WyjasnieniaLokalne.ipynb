{
 "cells": [
  {
   "cell_type": "markdown",
   "metadata": {},
   "source": [
    "# Wyjaśnienia lokalne\n",
    "Grupa BarteKasiAdam"
   ]
  },
  {
   "cell_type": "markdown",
   "metadata": {},
   "source": [
    "## Wczytanie pakietów, danych i modelu"
   ]
  },
  {
   "cell_type": "code",
   "execution_count": null,
   "metadata": {},
   "outputs": [],
   "source": [
    "import dalex as dx\n",
    "import pandas as pd\n",
    "import pickle\n",
    "import xgboost as xgb\n",
    "import numpy as np\n",
    "\n",
    "from sklearn.model_selection import train_test_split"
   ]
  },
  {
   "cell_type": "code",
   "execution_count": null,
   "metadata": {},
   "outputs": [],
   "source": [
    "input_df = pd.read_csv('data/Bartek/new_preprocessed_dataset.csv')\n",
    "y = input_df.loc[:,'Attrition']\n",
    "X = input_df.drop('Attrition', axis='columns')\n",
    "\n",
    "X_train, X_test, y_train, y_test = train_test_split(X, y, random_state=14)"
   ]
  },
  {
   "cell_type": "code",
   "execution_count": null,
   "metadata": {},
   "outputs": [],
   "source": [
    "path_xgb = 'modele/new_xgb_model.p'\n",
    "xgb = pickle.load(open( path_xgb, \"rb\" ))\n",
    "xgb_explainer = dx.Explainer(xgb, X_train, y_train, label='XGB')"
   ]
  },
  {
   "cell_type": "code",
   "execution_count": null,
   "metadata": {},
   "outputs": [],
   "source": [
    "path_rf = 'modele/new_random_forest_model.p'\n",
    "rf = pickle.load(open( path_rf, \"rb\" ))\n",
    "rf_explainer = dx.Explainer(rf, X_train, y_train, label='RandomForest')"
   ]
  }
 ],
 "metadata": {
  "kernelspec": {
   "display_name": "Python 3",
   "language": "python",
   "name": "python3"
  },
  "language_info": {
   "codemirror_mode": {
    "name": "ipython",
    "version": 3
   },
   "file_extension": ".py",
   "mimetype": "text/x-python",
   "name": "python",
   "nbconvert_exporter": "python",
   "pygments_lexer": "ipython3",
   "version": "3.8.5"
  }
 },
 "nbformat": 4,
 "nbformat_minor": 4
}
