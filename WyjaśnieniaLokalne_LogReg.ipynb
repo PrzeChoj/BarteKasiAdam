{
 "cells": [
  {
   "cell_type": "code",
   "execution_count": null,
   "id": "equivalent-configuration",
   "metadata": {},
   "outputs": [],
   "source": [
    "import dalex as dx\n",
    "import pandas as pd\n",
    "import pickle\n",
    "import xgboost as xgb\n",
    "import numpy as np\n",
    "\n",
    "from sklearn.model_selection import train_test_split"
   ]
  },
  {
   "cell_type": "code",
   "execution_count": null,
   "id": "august-costs",
   "metadata": {},
   "outputs": [],
   "source": [
    "input_df = pd.read_csv('data/Bartek/new_preprocessed_dataset.csv')\n",
    "y = input_df.loc[:,'Attrition']\n",
    "X = input_df.drop('Attrition', axis='columns')\n",
    "\n",
    "X_train, X_test, y_train, y_test = train_test_split(X, y, random_state=14)"
   ]
  },
  {
   "cell_type": "code",
   "execution_count": null,
   "id": "wound-broad",
   "metadata": {},
   "outputs": [],
   "source": [
    "path_lr = 'modele/l1_log_reg.p'\n",
    "lr = pickle.load(open( path_lr, \"rb\" ))\n",
    "lr_explainer = dx.Explainer(lr, X_train, y_train, label='Logistic Regresion')"
   ]
  },
  {
   "cell_type": "markdown",
   "id": "fitting-venue",
   "metadata": {},
   "source": [
    "## Obserwacja błędnie zaklasyfikowana przez oba modele"
   ]
  },
  {
   "cell_type": "code",
   "execution_count": null,
   "id": "french-fantasy",
   "metadata": {},
   "outputs": [],
   "source": [
    "lr_errors = np.round(lr_explainer.predict(X_test)) != y_test\n",
    "incorrect = X_test[lr_errors]"
   ]
  },
  {
   "cell_type": "code",
   "execution_count": null,
   "id": "genetic-bristol",
   "metadata": {},
   "outputs": [],
   "source": [
    "incorrect.index"
   ]
  },
  {
   "cell_type": "code",
   "execution_count": null,
   "id": "stretch-blend",
   "metadata": {},
   "outputs": [],
   "source": [
    "index = 8425"
   ]
  },
  {
   "cell_type": "code",
   "execution_count": null,
   "id": "corresponding-movie",
   "metadata": {},
   "outputs": [],
   "source": [
    "print('Label: ' + str(y_test.loc[index]))\n",
    "observation = X_test.loc[index].to_frame().transpose()\n",
    "print('LR prediction : ' + str(lr_explainer.predict(observation)[0]))\n"
   ]
  },
  {
   "cell_type": "markdown",
   "id": "signal-interaction",
   "metadata": {},
   "source": [
    "Klient zrezygnował z usługi, lecz model LR przewidział jego rezygnację z prawdopodobieństwem 31%\n",
    "\n",
    "### Break Down"
   ]
  },
  {
   "cell_type": "code",
   "execution_count": null,
   "id": "double-woman",
   "metadata": {},
   "outputs": [],
   "source": [
    "lr_pp = lr_explainer.predict_parts(X_test.loc[index])\n",
    "lr_pp.plot(max_vars=24)"
   ]
  },
  {
   "cell_type": "markdown",
   "id": "thick-vietnamese",
   "metadata": {},
   "source": [
    "Zmienna `Total_Revolving_Bal` = 0 zwiększa prawdopodobieństwo rezygnacji o 9%, `Total_Ct_Chng_Q4_Q1` = 0.5 zwiększa o 10%. Zmienne `Total_Relationship_Count` = 5 oraz `Contacts_Count_12_mon` = 2 przyczyniają się do zmiejszenia predykcji rezygnacji. "
   ]
  },
  {
   "cell_type": "code",
   "execution_count": null,
   "id": "golden-honor",
   "metadata": {},
   "outputs": [],
   "source": [
    "lr_pp = lr_explainer.predict_parts(X_test.loc[index],type='shap')\n",
    "lr_pp.plot(max_vars=24)"
   ]
  },
  {
   "cell_type": "markdown",
   "id": "alpha-scottish",
   "metadata": {},
   "source": [
    "Dla Shapley value zmienne mają podobny udział w predykcji jak dla Break Down, jednak tyma razem większy wpływ ma zmienna `Total_Revolving_Bal`, jest na drugim miejscu `Total_Ct_Chng_Q4_Q1`."
   ]
  },
  {
   "cell_type": "code",
   "execution_count": null,
   "id": "stock-amendment",
   "metadata": {},
   "outputs": [],
   "source": [
    "lr_lime = lr_explainer.predict_surrogate(X_test.loc[index], type='lime', seed=10)\n",
    "lr_lime.show_in_notebook()\n"
   ]
  },
  {
   "cell_type": "markdown",
   "id": "collectible-wallace",
   "metadata": {},
   "source": [
    "Dla metody LIME także duży wpływ na predykję mają `Total_Revolving_Bal`, `Total_Ct_Chng_Q4_Q1`, `Total_Relationship_Count`, `Contacts_Count_12_mon`. Dodatkowo LIME wykrył wpływ zmiennej `Card_Category`, która w poprzednich metodach znoajdowała się dosyć nisko, oraz ocenił, że jej wartość równa 1 zmiejsza prawdopodobieństwo odejścia z banku.\n",
    "\n",
    "### Ceteris Paribus"
   ]
  },
  {
   "cell_type": "code",
   "execution_count": null,
   "id": "latter-wesley",
   "metadata": {},
   "outputs": [],
   "source": [
    "lr_cp = lr_explainer.predict_profile(X_test.loc[index])\n",
    "\n",
    "lr_cp.plot(facet_ncol=4)"
   ]
  },
  {
   "cell_type": "markdown",
   "id": "criminal-polish",
   "metadata": {},
   "source": [
    "Największę zmieny w predykcji są dla zmiennych  `Total_Ct_Chng_Q4_Q1`, `Total_Relationship_Count`, `Contacts_Count_12_mon` na które już zwróciliśmy uwagę w poprzednich metodach. Zaóważmy też, że zmiany dla zmiennej`Card_Category`, którą zaóważyliśmy w metodzie LIME, może zmienić predykcję prawdopodobieństwa rezygnacji z 30% do prawię 60%. Dodatkowo możemy, zaóważyć duże zmiiany w predykcji dla zmiennej `Months_Inactive_12_mon` która może zmienić predykcję od 12% do prawię 60%.\n",
    "\n",
    "### Podsumowanie\n",
    "\n",
    "- duży wpływ do prawidłowej predykcji miały zmienne `Total_Revolving_Bal`, `Total_Ct_Chng_Q4_Q1`\n",
    "- największy wpływ na predykję wykazywały zmienne `Total_Revolving_Bal`, `Total_Ct_Chng_Q4_Q1`, `Total_Relationship_Count`, `Contacts_Count_12_mon`, `Card_Category` oraz `Months_Inactive_12_mon`"
   ]
  },
  {
   "cell_type": "markdown",
   "id": "willing-purchase",
   "metadata": {},
   "source": [
    "## Obserwacja bardzo dobrze klasyfikowana"
   ]
  },
  {
   "cell_type": "code",
   "execution_count": null,
   "id": "modified-spyware",
   "metadata": {},
   "outputs": [],
   "source": [
    "treshhold = 0.00005\n",
    "\n",
    "lr_errors = np.abs(lr_explainer.predict(X_test) - y_test)\n",
    "super_correct = X_test[lr_errors < treshhold]\n"
   ]
  },
  {
   "cell_type": "code",
   "execution_count": null,
   "id": "selected-yorkshire",
   "metadata": {},
   "outputs": [],
   "source": [
    "super_correct.index"
   ]
  },
  {
   "cell_type": "markdown",
   "id": "addressed-stevens",
   "metadata": {},
   "source": [
    "Mniej bardzo dobrze sklasyfikowanych obserwacji niż dla modelii RF i XGB."
   ]
  },
  {
   "cell_type": "code",
   "execution_count": null,
   "id": "interstate-economy",
   "metadata": {},
   "outputs": [],
   "source": [
    "index = 805"
   ]
  },
  {
   "cell_type": "code",
   "execution_count": null,
   "id": "unlikely-conditions",
   "metadata": {},
   "outputs": [],
   "source": [
    "print('Label: ' + str(y_test.loc[index]))\n",
    "observation = X_test.loc[index].to_frame().transpose()\n",
    "print('LR prediction : ' + str(lr_explainer.predict(observation)[0]))"
   ]
  },
  {
   "cell_type": "markdown",
   "id": "numeric-batch",
   "metadata": {},
   "source": [
    "Model Regresji Logicznej przewidział, że klijent zrezygnuje z prawdopodobieństwem równym prawię 0%.\n",
    "\n",
    "\n",
    "### Break Down"
   ]
  },
  {
   "cell_type": "code",
   "execution_count": null,
   "id": "racial-behavior",
   "metadata": {},
   "outputs": [],
   "source": [
    "lr_pp = lr_explainer.predict_parts(X_test.loc[index])\n",
    "lr_pp.plot(max_vars=24)"
   ]
  },
  {
   "cell_type": "markdown",
   "id": "israeli-bible",
   "metadata": {},
   "source": [
    "Według metody Break Down model dokonał predykcji na podstawię zmiennej `Total_Ct_Chng_Q4_Q1` = 2.5. W badaniu błędnie sklasyfikowanej obserwacji ta zmienna także miała duży wpływ do predykcji, lecznie była to jedyna zmienna której udział był istotny.\n",
    "\n",
    "\n",
    "### Shapley Values"
   ]
  },
  {
   "cell_type": "code",
   "execution_count": null,
   "id": "collect-scene",
   "metadata": {},
   "outputs": [],
   "source": [
    "lr_pp = lr_explainer.predict_parts(X_test.loc[index],type='shap')\n",
    "lr_pp.plot(max_vars=24)"
   ]
  },
  {
   "cell_type": "markdown",
   "id": "hairy-humanitarian",
   "metadata": {},
   "source": [
    "Podobnie jak w poprzedniej metodzie, największy wplyw do predykcji miała zmienna `Total_Ct_Chng_Q4_Q1`. Dodatkowo metoda Shapley Values pokazała wpływ `Months_Inactive_12_mon`, `Total_Trans_Amt`,`Contacts_Count_12_mon`, `Total_Revolving_Bal`  które miały ponad 3 razy mniejszy wplyw od `Total_Ct_Chng_Q4_Q1`."
   ]
  },
  {
   "cell_type": "code",
   "execution_count": null,
   "id": "brown-headline",
   "metadata": {},
   "outputs": [],
   "source": [
    "lr_lime = lr_explainer.predict_surrogate(X_test.loc[index], type='lime', seed=10)\n",
    "lr_lime.show_in_notebook()"
   ]
  },
  {
   "cell_type": "markdown",
   "id": "angry-marker",
   "metadata": {},
   "source": [
    "Podobnie jak w analizie poprzedniej obserwacji, oprócz wcześniej wyróznionych zmiennych metoda LIME wyróżnia dodatkowo w wpływ zmiennej `Card_Category`.\n",
    "\n",
    "### Ceteris Paribus"
   ]
  },
  {
   "cell_type": "code",
   "execution_count": null,
   "id": "czech-valley",
   "metadata": {},
   "outputs": [],
   "source": [
    "lr_cp = lr_explainer.predict_profile(X_test.loc[index])\n",
    "\n",
    "lr_cp.plot(facet_ncol=4)"
   ]
  },
  {
   "cell_type": "markdown",
   "id": "vietnamese-baptist",
   "metadata": {},
   "source": [
    "Metoda Ceteris Paribus pododnie jak Break Down wyróżnia tylko zmienną `Total_Ct_Chng_Q4_Q1`. Zmienna ta to iloraz sumy transakcji z 4. kwartału oraz 1. kwartału i pokazuje czy liczba transakcji klienta się zwiększa czy zmniejsza. Zmienna `Total_Ct_Chng_Q4_Q1` równa 2.5 co może oznaczać, że klient wykonuje 2.5 razy wiecej transakcji niż na początku 12 miesięcy. Dla modelu Regresji Logicznej jest to bardzo dobry wyznacznik prawdopodobnie dlatego, że aktywny klient pewnie nie będzie chciał zrezygnować. Zaóważmy, że predykcja prawdopodobieństwa rezygnacji zacznie rosną dopiero gdy `Total_Ct_Chng_Q4_Q1` zacznie spadać poniżej 1 czyli aktywności klienta zmaleje.Jednak nawet jeżeli osiągnie wartość 0 to predykcja będzie wynościć 26% ponieważ posotałe zmienne na które zwraca uwagę Shapley Values mają także wpływają na spadek predykcji.\n",
    "\n",
    "\n",
    "### Podsumowanie\n",
    "- dla obserwacji o bardzo dobrej predykcji najważniejszą zmienna jest `Total_Ct_Chng_Q4_Q1`\n",
    "- zmienna ta według modelu jest wyznacznikiem aktywności klienta jeżeli osiąga watości 1 lub więcej"
   ]
  },
  {
   "cell_type": "markdown",
   "id": "durable-container",
   "metadata": {},
   "source": [
    "## Obserwacja niepewnie zaklasyfikowana przez oba modele"
   ]
  },
  {
   "cell_type": "code",
   "execution_count": null,
   "id": "precious-broadcast",
   "metadata": {},
   "outputs": [],
   "source": [
    "lr_ff_a = lr_explainer.predict(X_test) > 0.42 \n",
    "lr_ff_b = lr_explainer.predict(X_test) < 0.57\n",
    "ff = X_test[lr_ff_a & lr_ff_b]"
   ]
  },
  {
   "cell_type": "code",
   "execution_count": null,
   "id": "super-immune",
   "metadata": {},
   "outputs": [],
   "source": [
    "ff.index"
   ]
  },
  {
   "cell_type": "markdown",
   "id": "turkish-guess",
   "metadata": {},
   "source": [
    "Więcej niż dla modelii RF i XGB"
   ]
  },
  {
   "cell_type": "code",
   "execution_count": null,
   "id": "practical-surgery",
   "metadata": {},
   "outputs": [],
   "source": [
    "index = 8546"
   ]
  },
  {
   "cell_type": "code",
   "execution_count": null,
   "id": "fleet-dragon",
   "metadata": {},
   "outputs": [],
   "source": [
    "print('Label: ' + str(y_test.loc[index]))\n",
    "observation = X_test.loc[index].to_frame().transpose()\n",
    "print('LR prediction : ' + str(lr_explainer.predict(observation)[0]))"
   ]
  },
  {
   "cell_type": "markdown",
   "id": "lasting-electricity",
   "metadata": {},
   "source": [
    "Wybrany klient nie zrezygnował z usługi, lecz model z małą pewnościa 54% przewidział rezygnację.\n",
    "\n",
    "### Break Down"
   ]
  },
  {
   "cell_type": "code",
   "execution_count": null,
   "id": "genetic-french",
   "metadata": {},
   "outputs": [],
   "source": [
    "lr_pp = lr_explainer.predict_parts(X_test.loc[index])\n",
    "lr_pp.plot(max_vars=24)"
   ]
  },
  {
   "cell_type": "markdown",
   "id": "comparative-bottom",
   "metadata": {},
   "source": [
    "Dla metody Break Down największy wpływ na predykcję miały zmienne `Total_Revolving_bal` = 0 oraz `Total_relationship_Count` = 2. `Total_Revolving_bal` (suma wykorzystanego debetu z 12 miesięcy) oznacza że klient nie pozostawia debetu pod koniec miesiąca lub że nie korzysta z debetu co może oznaczać, że nie jeste zainteresowany oderowaną usułgą.\n",
    "\n",
    "\n",
    "### Shapley Values"
   ]
  },
  {
   "cell_type": "code",
   "execution_count": null,
   "id": "statewide-stomach",
   "metadata": {},
   "outputs": [],
   "source": [
    "lr_pp = lr_explainer.predict_parts(X_test.loc[index],type='shap')\n",
    "lr_pp.plot(max_vars=24)"
   ]
  },
  {
   "cell_type": "markdown",
   "id": "muslim-element",
   "metadata": {},
   "source": [
    "Za pomocą metody Dreak Down możemy zaóważyć duży wpływ zmiennej `Contacts_Count_12_mon` = 3 która oznacza znaczą liczbę kontaktów z bankiem z ostatnich 12 miesięcy. Możliwe że może to oznaczać skargi klieta. Dodatkowo `Months_Inactive_12_mon` = 3 także wpływa na wzrost predykji. Jest to dosyć zrozumiałe, że brak aktywnosći klienta może oznaczać, że będzie chciał on zrezygnować z usługi.\n",
    "\n",
    "### LIME"
   ]
  },
  {
   "cell_type": "code",
   "execution_count": null,
   "id": "timely-powell",
   "metadata": {},
   "outputs": [],
   "source": [
    "lr_lime = lr_explainer.predict_surrogate(X_test.loc[index], type='lime', seed=10)\n",
    "lr_lime.show_in_notebook()"
   ]
  },
  {
   "cell_type": "markdown",
   "id": "static-plaintiff",
   "metadata": {},
   "source": [
    "Oprócz wczęsniej wymienionych zmiennych, tak jak w pozostałych obserwacjach, metoda LIME zwraca uwagę na zmienną `Card_Category` równą 1.\n",
    "\n",
    "\n",
    "### Ceteris Paribus"
   ]
  },
  {
   "cell_type": "code",
   "execution_count": null,
   "id": "burning-brunswick",
   "metadata": {},
   "outputs": [],
   "source": [
    "lr_cp = lr_explainer.predict_profile(X_test.loc[index])\n",
    "\n",
    "lr_cp.plot(facet_ncol=4)"
   ]
  },
  {
   "cell_type": "markdown",
   "id": "received-accounting",
   "metadata": {},
   "source": [
    "Możemy zaóważyć duze zmiany w predykcji dla wczesniej wspomnianych zmiennych`Total_Revolving_bal`, `Total_relationship_Count`, `Contacts_Count_12_mon`, `Months_Inactive_12_mon`. Duży wpływ mają także zmiany zmiennych `Total_Trans_Amt` ,`Total_Relationship_Count` oraz `Total_Ct_Chng_Q4_Q1`. Dla `Total_Ct_Chng_Q4_Q1`,  `Months_Inactive_12_mon` oraz `Contacts_Count_12_mon` obserwacji przyjmuje wartości \"średnie\" i wystarczy by był zmiejsze lub większe by predykcja nie była niepewna. \n",
    "\n",
    "\n",
    "### Podsumowanie\n",
    "- obserwacja posiadała wiele średnich wartości dla zmiennych, które mogły by pewniej ją zaklasyfikować \n",
    "- aktywność użytkowanika mogłaby sugerować jego brak zainteresowania usługami lub niezadowolenie z nich, chociaż jest on klientem który nie zrezygnował \n",
    "- zmiany wartości zmiennych `Total_Ct_Chng_Q4_Q1`,  `Months_Inactive_12_mon` oraz `Contacts_Count_12_mon` zmniejszyły by niepewność predykcji."
   ]
  }
 ],
 "metadata": {
  "kernelspec": {
   "display_name": "Python 3",
   "language": "python",
   "name": "python3"
  },
  "language_info": {
   "codemirror_mode": {
    "name": "ipython",
    "version": 3
   },
   "file_extension": ".py",
   "mimetype": "text/x-python",
   "name": "python",
   "nbconvert_exporter": "python",
   "pygments_lexer": "ipython3",
   "version": "3.8.8"
  }
 },
 "nbformat": 4,
 "nbformat_minor": 5
}
