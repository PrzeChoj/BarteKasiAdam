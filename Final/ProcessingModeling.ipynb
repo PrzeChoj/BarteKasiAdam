{
 "cells": [
  {
   "cell_type": "code",
   "execution_count": null,
   "metadata": {},
   "outputs": [],
   "source": [
    "import pandas as pd\n",
    "import pickle\n",
    "import xgboost as xgb\n",
    "\n",
    "from sklearn.linear_model import LogisticRegression\n",
    "from sklearn.metrics import accuracy_score\n",
    "from sklearn.model_selection import train_test_split\n",
    "from sklearn.model_selection import GridSearchCV\n",
    "from sklearn.ensemble import RandomForestClassifier"
   ]
  },
  {
   "cell_type": "markdown",
   "metadata": {},
   "source": [
    "## DataSet Processing"
   ]
  },
  {
   "cell_type": "code",
   "execution_count": null,
   "metadata": {},
   "outputs": [],
   "source": [
    "input_df = pd.read_csv('BankChurners.csv')\n",
    "\n",
    "input_df.drop('CLIENTNUM', axis=1, inplace=True)\n",
    "\n",
    "input_df.drop(['Naive_Bayes_Classifier_Attrition_Flag_Card_Category_Contacts_Count_12_mon_Dependent_count_Education_Level_Months_Inactive_12_mon_1'], \n",
    "          inplace=True, axis=1)\n",
    "\n",
    "input_df.drop(['Naive_Bayes_Classifier_Attrition_Flag_Card_Category_Contacts_Count_12_mon_Dependent_count_Education_Level_Months_Inactive_12_mon_2'], \n",
    "          inplace=True, axis=1)"
   ]
  },
  {
   "cell_type": "code",
   "execution_count": null,
   "metadata": {},
   "outputs": [],
   "source": [
    "updated_df = pd.DataFrame()\n",
    "cats = ['Attrition_Flag', 'Gender', 'Education_Level', 'Marital_Status', 'Income_Category', 'Card_Category']\n",
    "\n",
    "numeric_columns = ['Customer_Age','Credit_Limit','Months_on_book','Avg_Utilization_Ratio','Avg_Open_To_Buy','Total_Trans_Amt','Dependent_count',\n",
    "                  'Total_Relationship_Count','Months_Inactive_12_mon','Contacts_Count_12_mon','Total_Revolving_Bal',\n",
    "                  'Total_Amt_Chng_Q4_Q1','Total_Trans_Ct','Total_Ct_Chng_Q4_Q1']\n",
    "\n",
    "def tobinary():\n",
    "    \n",
    "    # full_df['Attrition_Flag'] = full_df.Attrition_Flag // same thing\n",
    "    updated_df['Attrition'] = input_df.Attrition_Flag.map({'Existing Customer':0, 'Attrited Customer':1})\n",
    "    \n",
    "    updated_df['Gender'] = input_df.Gender.map({'M':1, 'F':0})"
   ]
  },
  {
   "cell_type": "code",
   "execution_count": null,
   "metadata": {},
   "outputs": [],
   "source": [
    "def stringtoint():\n",
    "    missing_income = input_df['Income_Category'].replace({'Unknown': 1 , 'Less than $40K':0, '$40K - $60K':0, \n",
    "                                                      '$80K - $120K':0, '$60K - $80K':0, '$120K +':0})\n",
    "    #missinng data will be replaced with mode:\n",
    "    income_data    = input_df['Income_Category'].replace({'Unknown': 1 , 'Less than $40K':1, '$40K - $60K':2, \n",
    "                                                      '$80K - $120K':3, '$60K - $80K':4, '$120K +':5})\n",
    "    \n",
    "    \n",
    "    \n",
    "    missing_education = input_df['Education_Level'].replace({'Unknown': 1, 'High School':0, 'Graduate':0, 'Uneducated':0,\n",
    "                                                         'College':0,'Post-Graduate':0,'Doctorate':0})\n",
    "    #missinng data will be replaced with mode:\n",
    "    education_data    = input_df['Education_Level'].replace({'Unknown': 2, 'High School':1, 'Graduate':2, 'Uneducated':3,\n",
    "                                                         'College':4,'Post-Graduate':5,'Doctorate':6})\n",
    "    \n",
    "    card_data = input_df['Card_Category'].replace({'Blue': 1, 'Silver': 2, 'Gold': 3, 'Platinum': 4})\n",
    "    \n",
    "    updated_df['Card_Category']     = card_data\n",
    "    updated_df['Missing_Income']    = missing_income\n",
    "    updated_df['Income_Category']   = income_data\n",
    "    updated_df['Missing_Education'] = missing_education\n",
    "    updated_df['Education_Level']   = education_data"
   ]
  },
  {
   "cell_type": "code",
   "execution_count": null,
   "metadata": {},
   "outputs": [],
   "source": [
    "def encode():\n",
    "    global updated_df\n",
    "    marital_dummies = pd.get_dummies(input_df['Marital_Status'], prefix='Marital')\n",
    "    updated_df = pd.concat([updated_df, marital_dummies], axis=1)\n",
    "def concat_with_numerics():\n",
    "    global updated_df\n",
    "    updated_df = pd.concat([updated_df, input_df.loc[:, numeric_columns]], axis=1)"
   ]
  },
  {
   "cell_type": "code",
   "execution_count": null,
   "metadata": {},
   "outputs": [],
   "source": [
    "tobinary()\n",
    "stringtoint()\n",
    "encode()\n",
    "concat_with_numerics()"
   ]
  },
  {
   "cell_type": "code",
   "execution_count": null,
   "metadata": {},
   "outputs": [],
   "source": [
    "X = updated_df.drop('Attrition', axis=1)\n",
    "y = updated_df['Attrition']"
   ]
  },
  {
   "cell_type": "code",
   "execution_count": null,
   "metadata": {},
   "outputs": [],
   "source": [
    "X_small = X.drop(['Months_on_book', 'Total_Trans_Ct', 'Credit_Limit'], axis='columns')"
   ]
  },
  {
   "cell_type": "code",
   "execution_count": null,
   "metadata": {},
   "outputs": [],
   "source": [
    "X_train, X_test, y_train, y_test = train_test_split(X_small, y, random_state=14)"
   ]
  },
  {
   "cell_type": "code",
   "execution_count": null,
   "metadata": {},
   "outputs": [],
   "source": [
    "preprocessed_df = pd.concat([X_small,y], axis='columns')"
   ]
  },
  {
   "cell_type": "code",
   "execution_count": null,
   "metadata": {},
   "outputs": [],
   "source": [
    "preprocessed_df.to_csv('preprocessed_dataset.csv', index=False)"
   ]
  },
  {
   "cell_type": "markdown",
   "metadata": {},
   "source": [
    "## XGBoost"
   ]
  },
  {
   "cell_type": "code",
   "execution_count": null,
   "metadata": {},
   "outputs": [],
   "source": [
    "xgb =  xgb.XGBClassifier(n_estimators=100,\n",
    "                         max_depth=5, random_state=14)\n",
    "xgb.fit(X_train, y_train)\n",
    "pickle.dump(xgb, open( \"xgb_model.p\", \"wb\" ))"
   ]
  },
  {
   "cell_type": "markdown",
   "metadata": {},
   "source": [
    "# Random Forest"
   ]
  },
  {
   "cell_type": "code",
   "execution_count": null,
   "metadata": {},
   "outputs": [],
   "source": [
    "random_forest = RandomForestClassifier(n_estimators=100)\n",
    "\n",
    "random_forest.fit(X_train,y_train)"
   ]
  },
  {
   "cell_type": "code",
   "execution_count": null,
   "metadata": {},
   "outputs": [],
   "source": [
    "pickle.dump(random_forest, open(\"random_forest_model.p\", 'wb'))"
   ]
  },
  {
   "cell_type": "markdown",
   "metadata": {},
   "source": [
    "## Logistic Regression\n",
    "with grid search of `C` parameter"
   ]
  },
  {
   "cell_type": "code",
   "execution_count": null,
   "metadata": {},
   "outputs": [],
   "source": [
    "parameters = {\"C\": [.01, .025, .05, .1, .2, .25, .3,.35, .4, .45, .475, .5, .525, .55, .6, .7, 1, 1.25, 1.5, 2, 5]}\n",
    "lr = LogisticRegression(penalty='l1', solver='liblinear', max_iter=1000, random_state=123)\n",
    "lr_clf = GridSearchCV(lr, parameters, scoring = 'accuracy')\n",
    "lr_clf.fit(X_train, y_train)"
   ]
  },
  {
   "cell_type": "code",
   "execution_count": null,
   "metadata": {},
   "outputs": [],
   "source": [
    "display(accuracy_score(y_test, lr_clf.predict(X_test)))\n",
    "display(lr_clf.best_params_)"
   ]
  },
  {
   "cell_type": "markdown",
   "metadata": {},
   "source": [
    "$C = 0.5$ turned out to be the best of those."
   ]
  },
  {
   "cell_type": "code",
   "execution_count": null,
   "metadata": {},
   "outputs": [],
   "source": [
    "parameters = {\"C\": [x/10000 for x in range(4900,5100,2)]}\n",
    "lr = LogisticRegression(penalty='l1', solver='liblinear', max_iter=1000, random_state=123)\n",
    "lr_clf = GridSearchCV(lr, parameters, scoring = 'accuracy')\n",
    "lr_clf.fit(X_train, y_train)\n",
    "display(accuracy_score(y_test, lr_clf.predict(X_test)))\n",
    "display(lr_clf.best_params_)"
   ]
  },
  {
   "cell_type": "code",
   "execution_count": null,
   "metadata": {},
   "outputs": [],
   "source": [
    "pickle.dump(lr_clf.best_estimator_, open(\"l1_log_reg.p\", \"wb\"))"
   ]
  }
 ],
 "metadata": {
  "kernelspec": {
   "display_name": "Python 3",
   "language": "python",
   "name": "python3"
  },
  "language_info": {
   "codemirror_mode": {
    "name": "ipython",
    "version": 3
   },
   "file_extension": ".py",
   "mimetype": "text/x-python",
   "name": "python",
   "nbconvert_exporter": "python",
   "pygments_lexer": "ipython3",
   "version": "3.8.5"
  }
 },
 "nbformat": 4,
 "nbformat_minor": 4
}
