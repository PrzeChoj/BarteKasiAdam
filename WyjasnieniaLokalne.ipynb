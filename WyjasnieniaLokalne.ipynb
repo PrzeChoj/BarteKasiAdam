{
 "cells": [
  {
   "cell_type": "markdown",
   "metadata": {},
   "source": [
    "# Wyjaśnienia lokalne\n",
    "Grupa BarteKasiAdam"
   ]
  },
  {
   "cell_type": "markdown",
   "metadata": {},
   "source": [
    "## Wczytanie pakietów, danych i modelu"
   ]
  },
  {
   "cell_type": "code",
   "execution_count": null,
   "metadata": {},
   "outputs": [],
   "source": [
    "import dalex as dx\n",
    "import pandas as pd\n",
    "import pickle\n",
    "import xgboost as xgb\n",
    "import numpy as np\n",
    "\n",
    "from sklearn.model_selection import train_test_split"
   ]
  },
  {
   "cell_type": "code",
   "execution_count": null,
   "metadata": {},
   "outputs": [],
   "source": [
    "input_df = pd.read_csv('data/Bartek/new_preprocessed_dataset.csv')\n",
    "y = input_df.loc[:,'Attrition']\n",
    "X = input_df.drop('Attrition', axis='columns')\n",
    "\n",
    "X_train, X_test, y_train, y_test = train_test_split(X, y, random_state=14)"
   ]
  },
  {
   "cell_type": "code",
   "execution_count": null,
   "metadata": {},
   "outputs": [],
   "source": [
    "path_xgb = 'modele/new_xgb_model.p'\n",
    "xgb = pickle.load(open( path_xgb, \"rb\" ))\n",
    "xgb_explainer = dx.Explainer(xgb, X_train, y_train, label='XGB')"
   ]
  },
  {
   "cell_type": "code",
   "execution_count": null,
   "metadata": {},
   "outputs": [],
   "source": [
    "path_rf = 'modele/new_random_forest_model.p'\n",
    "rf = pickle.load(open( path_rf, \"rb\" ))\n",
    "rf_explainer = dx.Explainer(rf, X_train, y_train, label='RandomForest')"
   ]
  },
  {
   "cell_type": "markdown",
   "metadata": {},
   "source": [
    "## Obserwacja błędnie zaklasyfikowana przez oba modele"
   ]
  },
  {
   "cell_type": "code",
   "execution_count": null,
   "metadata": {},
   "outputs": [],
   "source": [
    "xgb_errors = np.round(xgb_explainer.predict(X_test)) != y_test\n",
    "rf_errors = np.round(rf_explainer.predict(X_test)) != y_test\n",
    "incorrect = X_test[xgb_errors & rf_errors]"
   ]
  },
  {
   "cell_type": "code",
   "execution_count": null,
   "metadata": {},
   "outputs": [],
   "source": [
    "incorrect.index"
   ]
  },
  {
   "cell_type": "markdown",
   "metadata": {},
   "source": [
    "Powyżej wypisane są indeksy obserwacji ze zbioru testowego, które są błędnie zaklasyfikowane przez oba modele."
   ]
  },
  {
   "cell_type": "code",
   "execution_count": null,
   "metadata": {},
   "outputs": [],
   "source": [
    "index = 1257"
   ]
  },
  {
   "cell_type": "code",
   "execution_count": null,
   "metadata": {},
   "outputs": [],
   "source": [
    "print('Label: ' + str(y_test.loc[index]))\n",
    "observation = X_test.loc[index].to_frame().transpose()\n",
    "print('XGB prediction : ' + str(xgb_explainer.predict(observation)[0]))\n",
    "print('RF prediction : ' + str(rf_explainer.predict(observation)[0]))"
   ]
  },
  {
   "cell_type": "markdown",
   "metadata": {},
   "source": [
    "Widzimy, że klient wypowiedział usługi, ale zarówno XGBoost jak i Random Forest pomyliły się. Przewidziały prawdopodobieństwo odejścia odpowiednio równe 0.5% oraz 4%.\n",
    "\n",
    "### Break Down"
   ]
  },
  {
   "cell_type": "code",
   "execution_count": null,
   "metadata": {},
   "outputs": [],
   "source": [
    "xgb_pp = xgb_explainer.predict_parts(X_test.loc[index])\n",
    "rf_pp = rf_explainer.predict_parts(X_test.loc[index])\n",
    "\n",
    "xgb_pp.plot(max_vars=24)\n",
    "rf_pp.plot(max_vars=24)"
   ]
  },
  {
   "cell_type": "markdown",
   "metadata": {},
   "source": [
    "XGBost wykrył, że `Total_Realtionship_Count` = 5 (Łączna liczba produktów w banku) pod warunkiem, że `Total_Trans_Amt`= 1096 (Łączna wartość transakcji) obniża prawdopodobieństwo odejścia klienta o około 3%. Random Forest natomiast nie wykrył interakcji miedzy tymi zmiennymi i uznał, że `Total_Trans_Amt`= 1096 o 7% zwiększa prawdopodobieństwo odejścia z banku. Z kolei `Total_Relationship_Count` = 5 obniżył predykcję o około 6%. Największy wpływ na odpowiedź XGBoost'a według metody Break Down miała wartość w kolumnie `Months_Inactive_12_mon` (liczba miesięcy bez aktywności w ciągu roku) równa 1 (zmniejszenie wyniku o 8%).\n",
    "\n",
    "### Shapley Values"
   ]
  },
  {
   "cell_type": "code",
   "execution_count": null,
   "metadata": {},
   "outputs": [],
   "source": [
    "xgb_shap = xgb_explainer.predict_parts(X_test.loc[index], type='shap')\n",
    "rf_shap = rf_explainer.predict_parts(X_test.loc[index], type='shap')\n",
    "\n",
    "xgb_shap.plot(max_vars=24)\n",
    "rf_shap.plot(max_vars=24)"
   ]
  },
  {
   "cell_type": "markdown",
   "metadata": {},
   "source": [
    "Według metody Shapley Values 5 zmiennych mających największy wpływ na predykcję obu modeli było takie same. Co więcej, znak kontrybucji każdej z tych zmiennych był taki sam dla dwóch modeli. Dokładniej, tylko `Total_Trans_Amt` zwiększał prawdopodobieństwo odejśca. `Total_Revolving_Bal`, `Months_Inactive_12_mon`, `Total_Relationship_Count` oraz `Contacts_Count_12_mon`(liczba kontaktów z bankiem w ciągu ostatniego roku) zmniejszały predykcję.\n",
    "\n",
    "Modele dobrze zinterpretowały wartość w `Total_Trans_Amt`, ale wartości innych zmiennych zaważyły na tym, że predykcja była błędna.\n",
    "\n",
    "### LIME"
   ]
  },
  {
   "cell_type": "code",
   "execution_count": null,
   "metadata": {},
   "outputs": [],
   "source": [
    "xgb_lime = xgb_explainer.predict_surrogate(X_test.loc[index], type='lime', seed=10)\n",
    "rf_lime = rf_explainer.predict_surrogate(X_test.loc[index], type='lime', seed=10)\n",
    "xgb_lime.show_in_notebook()\n",
    "rf_lime.show_in_notebook()"
   ]
  },
  {
   "cell_type": "markdown",
   "metadata": {},
   "source": [
    "#### XGBoost\n",
    "Metoda LIME pokazuje, że ważne w predykcji były `Total_Relationship_Count`, `Contacts_Count_12_mon`, `Total_Ct_Chng_Q4_Q1`, `Maritial_Divorced`. O ile pierwsze dwie nie są zaskoczeniem, gdyż wykrywały je już poprzednie metody, to kolejne mogą być dla nas zaskoczeniem, szczególnie `Maritial_Divorced` - flaga utworzona przy one hot encodingu. W tej analizie jej wartość równa 0 zwiększa predykcję. Innymi słowy, to że klient nie jest rozwiedziony zwiększa prawdopodobieństwo odejścia z banku.\n",
    "\n",
    "#### Random Forest\n",
    "Tutaj nie ma zaskoczenia: 5 najważniejszych zmiennych wykrytych metodą LIME jest taka sama jak w przypadku metody Shapley Values. Również kierunek ich kontrybucji jest identyczny jak w poprzedniej metodzie.\n",
    "\n",
    "### Ceteris Paribus"
   ]
  },
  {
   "cell_type": "code",
   "execution_count": null,
   "metadata": {
    "scrolled": false
   },
   "outputs": [],
   "source": [
    "xgb_cp = xgb_explainer.predict_profile(X_test.loc[index])\n",
    "rf_cp = rf_explainer.predict_profile(X_test.loc[index])\n",
    "\n",
    "xgb_cp.plot(rf_cp, facet_ncol=4)"
   ]
  },
  {
   "cell_type": "markdown",
   "metadata": {},
   "source": [
    "Wnioski po przeanalizowaniu profili Ceteris Paribus:\n",
    "- Random Forest jest bardziej ważliwy na odchylenia wartości zmiennych. Przy odchyleniu wartości zmiennych zmiana jego predykcji jest większa niż w przypadku XGBoost'a.\n",
    "- aby wynik modeli zgadzał się z etykietą, musiałoby zajść jedno ze zdarzeń: \n",
    "    + `Contact_Count_12_mon` = 6 \n",
    "    + `Total_Trans_Amt` < 850\n",
    "    \n",
    "    A więc musiałaby nastąpić zmiana wartości kolumn, które zostały wskazane za istotne w analizach innymi metodami. Możemy stąd wnioskować, że rzeczywiście te kolumny miały wpływ na wynik modeli\n",
    "    \n",
    "### Podsumowanie\n",
    "\n",
    "- kolumna `Total_Trans_Amt` wpływa na wynik w dobrym kierunku według prawie wszystkich analiz, ale jej kontrybucja jest zagłuszana przez inne zmienne.\n",
    "- najważniejszymi kolumnami wpływającymi na wynik dla tej obserwacji są `Total_Trans_Amt`, `Total_Revolving_Bal`, `Months_Inactive_12_mon`, `Total_Relationship_Count` oraz `Contacts_Count_12_mon`.\n",
    "- błędna predykcja modeli wynikaja w większości z tych samych powodów."
   ]
  },
  {
   "cell_type": "markdown",
   "metadata": {},
   "source": [
    "## Obserwacja bardzo dobrze klasyfikowana"
   ]
  },
  {
   "cell_type": "code",
   "execution_count": null,
   "metadata": {},
   "outputs": [],
   "source": [
    "treshhold = 0.00005\n",
    "\n",
    "xgb_errors = np.abs(xgb_explainer.predict(X_test) - y_test)\n",
    "rf_errors = np.abs(rf_explainer.predict(X_test) - y_test)\n",
    "super_correct = X_test[(xgb_errors < treshhold) & (rf_errors < treshhold)]"
   ]
  },
  {
   "cell_type": "code",
   "execution_count": null,
   "metadata": {},
   "outputs": [],
   "source": [
    "super_correct.index"
   ]
  },
  {
   "cell_type": "markdown",
   "metadata": {},
   "source": [
    "Powyżej wypisane są indeksy obserwacji ze zbioru testowego, które są bardzo dobrze zaklasyfikowane przez oba modele."
   ]
  },
  {
   "cell_type": "code",
   "execution_count": null,
   "metadata": {},
   "outputs": [],
   "source": [
    "index = 8024"
   ]
  },
  {
   "cell_type": "code",
   "execution_count": null,
   "metadata": {
    "scrolled": true
   },
   "outputs": [],
   "source": [
    "print('Label: ' + str(y_test.loc[index]))\n",
    "observation = X_test.loc[index].to_frame().transpose()\n",
    "print('XGB prediction : ' + str(xgb_explainer.predict(observation)[0]))\n",
    "print('RF prediction : ' + str(rf_explainer.predict(observation)[0]))"
   ]
  },
  {
   "cell_type": "markdown",
   "metadata": {},
   "source": [
    "Widzimy, że klient dalej korzysta z usługi, a zarówno XGBoost jak i Random Forest były całkowicie przekonane do tego, że właśnie tak będzie.\n",
    "Sprawdźmy czemu są aż tak tego pewni.\n",
    "\n",
    "### Break Down"
   ]
  },
  {
   "cell_type": "code",
   "execution_count": null,
   "metadata": {},
   "outputs": [],
   "source": [
    "xgb_pp = xgb_explainer.predict_parts(X_test.loc[index])\n",
    "rf_pp = rf_explainer.predict_parts(X_test.loc[index])\n",
    "\n",
    "xgb_pp.plot(max_vars=11)\n",
    "rf_pp.plot(max_vars=11)"
   ]
  },
  {
   "cell_type": "markdown",
   "metadata": {},
   "source": [
    "Modele wykryły, że `Total_Realtionship_Count` = 1 (Łączna liczba produktów w banku). Uznały, że to niewiele, więc być może klient ten nie jest związany z naszym bankiem i rozważa opuszczenie go. Random Forest uznał go za najbardziej wpływową kolumnę w pierwszym kroku. XGBost natomiast w drugim, ale nadal niesamowicie bardzo.\n",
    "\n",
    "A jednak ostatecznie modele uznały, że predykcja będzie przeciwna do tego, co sugeruje ta kolumna. Czemu tak się stało? bo `Total_Trans_Amt` = 4410 (łączna wartość przelewów). To była kolumna, która dla Random Forest całkowicie zniwelowała \"przeczucia\" dla tamtej kolumny, a dla XGBost było to 4 krotnie ważniejsze.\n",
    "\n",
    "Czemu jednak akurat taka wartość kolumny `Total_Trans_Amt` przekonuje model co do pozostania klienta w banku?\n",
    "\n",
    "### Ceteris Paribus"
   ]
  },
  {
   "cell_type": "code",
   "execution_count": null,
   "metadata": {
    "scrolled": true
   },
   "outputs": [],
   "source": [
    "xgb_cp = xgb_explainer.predict_profile(X_test.loc[index])\n",
    "rf_cp = rf_explainer.predict_profile(X_test.loc[index])\n",
    "\n",
    "xgb_cp.plot(rf_cp, facet_ncol=4)"
   ]
  },
  {
   "cell_type": "markdown",
   "metadata": {},
   "source": [
    "Okazuje się, że według modelu XGBoost, gdyby wszystko zostało w tej obserwacji takie samo, tylko wartość `Total_Trans_Amt` zmienić na 0, to model byłby prawie $100\\%$ pewien, że klient odejdzie z naszego banku, a tak, dzięki temu, że jest na poziomie $4400$, jest prawie $100\\%$ pewnie, że nie opuści. Dla Random Forest to też jest bardzo ważne, co prawda nie aż do $100\\%$, ale $60\\%$, co i tak jest ogromną wartością.\n",
    "\n",
    "Oznacza to, że klienci, którzy bardzo niewiele kożystają z podstawowej usługi bankowej, jaką jest wykonywanie przelewów, są kategoryzowani jako opuszczający bank.\n",
    "\n",
    "Widzimy dodatkowo, że gdyby zwiększyć wartość `Contacts_Count_12_mon`, czyli liczbę odwiedzin siedziby banku, to równierz diametralnie zmieniają się przewidywania odnośnie odejścia. Zgadza się to z intuicją, że opuszczenie banku przez klienta to długoterminowy proces, który wymaka kilku odwiedzin w placówce, choćby, żeby wypłacić pozostałą gotówkę. Klient, który wielokrotnie odwiedza placówkę to taki, który próbuje coś ważnego załatwić i być może jest to opuszczenie banku. Być może jednak klient często odwiedza fizyczną placówkę, bo aplikcaja mobilna banku nie pozwala mu wykonać jakiejś tranzakcji, albo nie jest wystarczająco intuicyjna, aby mu to umożliwić. Dlatego swoje sprawy załatwia osobiście. Taki klient może się zniechęcić do korzystania z usług bankowych i poszukać na runku alternatywy.\n",
    "\n",
    "### Shapley Values"
   ]
  },
  {
   "cell_type": "code",
   "execution_count": null,
   "metadata": {
    "scrolled": true
   },
   "outputs": [],
   "source": [
    "xgb_shap = xgb_explainer.predict_parts(X_test.loc[index], type='shap')\n",
    "rf_shap = rf_explainer.predict_parts(X_test.loc[index], type='shap')\n",
    "\n",
    "xgb_shap.plot(max_vars=24)\n",
    "rf_shap.plot(max_vars=24)"
   ]
  },
  {
   "cell_type": "markdown",
   "metadata": {},
   "source": [
    "Według metody Shapley Values 4 zmienne mających największy wpływ na predykcję obu modeli było takie same. Co więcej, znak kontrybucji każdej z tych zmiennych był taki sam dla dwóch modeli.\n",
    "\n",
    "Oznacza to, że modele najbardziej biorą pod uwagę te same kolumny, jednak z inną \"mocą\".\n",
    "\n",
    "Co ciekawe modele uwzględniły, że wartość `Total_Revolving_Bal` na poziomie około $1600$ powoduje \"spadek\" predykcji o około $0.03$ dla XGBoost i $0.06$ dla Random Forest. Wydaje się, że jeśli klient zostawił na kolejny okres rozliczeniowy aż $1600$ zł długu, to będzie dużo bardziej rokował na długotrwałe przywiązanie się do instytucji bankowej, niż tylko $0.03$. Tym bardziej, że według wykresu Ceteris Paribus dla Random Forest niska jego wartość powoduje \"skok\" predykcji aż do $0.4$.\n",
    "\n",
    "### LIME"
   ]
  },
  {
   "cell_type": "code",
   "execution_count": null,
   "metadata": {},
   "outputs": [],
   "source": [
    "xgb_lime = xgb_explainer.predict_surrogate(X_test.loc[index], type='lime', seed=10)\n",
    "rf_lime = rf_explainer.predict_surrogate(X_test.loc[index], type='lime', seed=10)\n",
    "xgb_lime.show_in_notebook()\n",
    "rf_lime.show_in_notebook()"
   ]
  },
  {
   "cell_type": "markdown",
   "metadata": {},
   "source": [
    "Metoda LIME potwierdza ważność wcześniej analizowanych kolumn. Co jednak ciekawe, wartość kolumny `Total_Revolving_Bal` wegług modelu XGBoost jest tym razem oceniona jako druga pod względem istotności."
   ]
  },
  {
   "cell_type": "markdown",
   "metadata": {},
   "source": [
    "### Podsumowanie\n",
    "- kolumna `Total_Realtionship_Count` = 1 powoduje, że bank boi się, że nie trzyma klienta wystarczająco mocno i że klient rozważa opuszczenie go. Jednakże okazuje się, iż jest to klient, który chętnie trzyma w tym banku swoje pieniądze i nie myśli o opuszczaniu go mimo.\n",
    "- najważniejszymi kolumnami wpływającymi na wynik dla tej obserwacji są `Total_Trans_Amt`, `Total_Relationship_Count`, `Total_Revolving_Bal`.\n",
    "- pewność predykcji jest spowodowana dużym obrotem na koncie klienta oraz sporymi pożyczkami nierozliczanymi w terminie."
   ]
  },
  {
   "cell_type": "markdown",
   "metadata": {},
   "source": [
    "## Obserwacja niepewnie zaklasyfikowana przez oba modele"
   ]
  },
  {
   "cell_type": "code",
   "execution_count": null,
   "metadata": {},
   "outputs": [],
   "source": [
    "xgb_ff_a = xgb_explainer.predict(X_test) > 0.42 \n",
    "rf_ff_a = rf_explainer.predict(X_test) > 0.42\n",
    "xgb_ff_b = xgb_explainer.predict(X_test) < 0.57\n",
    "rf_ff_b = rf_explainer.predict(X_test) < 0.57\n",
    "ff = X_test[xgb_ff_a & rf_ff_a & xgb_ff_b & rf_ff_b]\n"
   ]
  },
  {
   "cell_type": "code",
   "execution_count": null,
   "metadata": {},
   "outputs": [],
   "source": [
    "ff.index"
   ]
  },
  {
   "cell_type": "code",
   "execution_count": null,
   "metadata": {},
   "outputs": [],
   "source": [
    "index = 5673"
   ]
  },
  {
   "cell_type": "code",
   "execution_count": null,
   "metadata": {},
   "outputs": [],
   "source": [
    "print('Label: ' + str(y_test.loc[index]))\n",
    "observation = X_test.loc[index].to_frame().transpose()\n",
    "print('XGB prediction : ' + str(xgb_explainer.predict(observation)[0]))\n",
    "print('RF prediction : ' + str(rf_explainer.predict(observation)[0]))"
   ]
  },
  {
   "cell_type": "code",
   "execution_count": null,
   "metadata": {},
   "outputs": [],
   "source": [
    "index = 6249"
   ]
  },
  {
   "cell_type": "code",
   "execution_count": null,
   "metadata": {},
   "outputs": [],
   "source": [
    "print('Label: ' + str(y_test.loc[index]))\n",
    "observation = X_test.loc[index].to_frame().transpose()\n",
    "print('XGB prediction : ' + str(xgb_explainer.predict(observation)[0]))\n",
    "print('RF prediction : ' + str(rf_explainer.predict(observation)[0]))"
   ]
  },
  {
   "cell_type": "code",
   "execution_count": null,
   "metadata": {},
   "outputs": [],
   "source": [
    "index = 3363"
   ]
  },
  {
   "cell_type": "code",
   "execution_count": null,
   "metadata": {},
   "outputs": [],
   "source": [
    "print('Label: ' + str(y_test.loc[index]))\n",
    "observation = X_test.loc[index].to_frame().transpose()\n",
    "print('XGB prediction : ' + str(xgb_explainer.predict(observation)[0]))\n",
    "print('RF prediction : ' + str(rf_explainer.predict(observation)[0]))"
   ]
  },
  {
   "cell_type": "code",
   "execution_count": null,
   "metadata": {},
   "outputs": [],
   "source": [
    "index = 8762"
   ]
  },
  {
   "cell_type": "code",
   "execution_count": null,
   "metadata": {},
   "outputs": [],
   "source": [
    "print('Label: ' + str(y_test.loc[index]))\n",
    "observation = X_test.loc[index].to_frame().transpose()\n",
    "print('XGB prediction : ' + str(xgb_explainer.predict(observation)[0]))\n",
    "print('RF prediction : ' + str(rf_explainer.predict(observation)[0]))"
   ]
  },
  {
   "cell_type": "markdown",
   "metadata": {},
   "source": [
    "Sprawdzając obserwacje których predykcja dla obu modeli jest bliks 50%, zaóważyłam że dotyczą one często klientów którzy zrezygnowali."
   ]
  },
  {
   "cell_type": "code",
   "execution_count": null,
   "metadata": {},
   "outputs": [],
   "source": [
    "index = 4982"
   ]
  },
  {
   "cell_type": "code",
   "execution_count": null,
   "metadata": {},
   "outputs": [],
   "source": [
    "print('Label: ' + str(y_test.loc[index]))\n",
    "observation = X_test.loc[index].to_frame().transpose()\n",
    "print('XGB prediction : ' + str(xgb_explainer.predict(observation)[0]))\n",
    "print('RF prediction : ' + str(rf_explainer.predict(observation)[0]))"
   ]
  },
  {
   "cell_type": "markdown",
   "metadata": {},
   "source": [
    "Klient zrezygnował z usługi. Oba modele skłąnią się delikatnie w stronę rezygnacji klienta, lecz jest to bardzo nie pewna decyzja.\n",
    "\n",
    "### Break Down"
   ]
  },
  {
   "cell_type": "code",
   "execution_count": null,
   "metadata": {},
   "outputs": [],
   "source": [
    "xgb_pp = xgb_explainer.predict_parts(X_test.loc[index])\n",
    "rf_pp = rf_explainer.predict_parts(X_test.loc[index])\n",
    "\n",
    "xgb_pp.plot(max_vars=24)\n",
    "rf_pp.plot(max_vars=24)"
   ]
  },
  {
   "cell_type": "markdown",
   "metadata": {},
   "source": [
    "Dekompozycję zaczynamy od wartosci 0.159, wieć na początku nasza predykcja uważa, że klient nie chcę zrezygnować. Przyjrzyjmy się jak nasza obserwacja próbuje przekonać modele, że jednak ma zamair zrezygnować z usługo.\n",
    "Pierwsze i najważniejsze na co nasze modele zwracają uwagę to `Total_Revolving_Bal` = 0 oraz `Total_Trans_Amt` = 2709. \n",
    "Brak srodków na koncie i niska suma transakcji z ostatnich 12 miesięcy może być dobrą wskazówka by stwierdzić, że klijent chce zrezygnować.Dwie zmienne mówią jednak co innego. `Avg_Open_To_Buy` to różnica między limitem karty a stanem konta. Dla naszej obserwacji `Avg_Open_To_Buy` = 25670. Drugą zmienną jest `Avg_Utilization_Rate`. Jest to stosunek nie spłaconych kwot do limitu karty i dla naszej obserwacji jest równe 0. Oznacza to brak wykorzystanego debetu.\n",
    "\n",
    "\n",
    "### Shapley Values"
   ]
  },
  {
   "cell_type": "code",
   "execution_count": null,
   "metadata": {},
   "outputs": [],
   "source": [
    "xgb_shap = xgb_explainer.predict_parts(X_test.loc[index], type='shap')\n",
    "rf_shap = rf_explainer.predict_parts(X_test.loc[index], type='shap')\n",
    "\n",
    "xgb_shap.plot(max_vars=24)\n",
    "rf_shap.plot(max_vars=24)"
   ]
  },
  {
   "cell_type": "markdown",
   "metadata": {},
   "source": [
    "Dla Shapley Value ważne zmienne są podobne co dla Break Down. Dodatkowo widać udział `Months_Inactive_12_mon` oraz `Total_Amt_Chng_Q4_Q1`.3 miesiące nie aktywności może zrozumieć jako brak zainteresowania usługą, więc ma sens przełożenie miało to dodatni wpływ na predykcje rezygnacji. `Total_Amt_Chng_Q4_Q1` oznacza ile razy wzrosła kwota transakcji w przeciągu 12 miesięcy. Dla naszej obserwacji wartość ta jest równa prawię 0.95. Może to oznaczać, że klient aktywnie używa swojego konta.\n",
    "\n",
    "Zaóważmy jeszcze, że dla Xgboosta `Total_Trans_Amt` miało większy wpływ niż `Total_Revolving_Bal`, a dla RandomForest podobne."
   ]
  },
  {
   "cell_type": "markdown",
   "metadata": {},
   "source": [
    "### LIME"
   ]
  },
  {
   "cell_type": "code",
   "execution_count": null,
   "metadata": {},
   "outputs": [],
   "source": [
    "xgb_lime = xgb_explainer.predict_surrogate(X_test.loc[index], type='lime', seed=10)\n",
    "rf_lime = rf_explainer.predict_surrogate(X_test.loc[index], type='lime', seed=10)\n",
    "xgb_lime.show_in_notebook()\n",
    "rf_lime.show_in_notebook()"
   ]
  },
  {
   "cell_type": "markdown",
   "metadata": {},
   "source": [
    "W dekompozycji LIME , oprócz innych znanych nam już zmiennych zaóważalny wpływ ma `Total_Relatioship_Count` = 3.\n",
    "Patrząc na liczę zmiennych, które przemawiają za predykcją o rezygnacji oraz ich wpływ na predykcję można by pomyśleć, że modele przewidziały rezygnację z usługi.\n",
    "\n",
    "\n",
    "### Ceteris Paribus\n"
   ]
  },
  {
   "cell_type": "code",
   "execution_count": null,
   "metadata": {},
   "outputs": [],
   "source": [
    "xgb_cp = xgb_explainer.predict_profile(X_test.loc[index])\n",
    "rf_cp = rf_explainer.predict_profile(X_test.loc[index])\n",
    "\n",
    "xgb_cp.plot(rf_cp, facet_ncol=4)"
   ]
  },
  {
   "cell_type": "markdown",
   "metadata": {},
   "source": [
    "Nasza obserwacja dla wielu zmiennych przyjmuje wartosci które znajdują się pomiędzy skokami. Dla modelu xgboost wystarczą niewielkie zmiany by predykcja była bliska 1.\n",
    "Gdyby dla naszej obserwacji `Total_Ct_Chng_Q4_Q1` miało by mniejszą wartość(spadek liczby transakcji z czasem, co może oznaczać spadek zainteresowania), to model xgboost z wysoką predykcją przewidział by rezygnacje klienta.  Do lepszej predykcji przyczyniło by się także zmiejszenie `Avg_open_To_Buy`, które jest dosyć wysokie jak na osobę która rezygnuje z usługi. Gdyby `Contacts_Count_12_mon` było większe, czyli klient cześciej predykcja rezygnacji bedzie większa. Wystarczy więc by jedna z tych zmienuch miała trochę inną wartość by osiągnąć dobrą predykcję. Niestety dla zmiennych ktorych zmiany wartości powodują duże zminy predykcji, nasza obserwacja przyjmuje \"wartości średnie\" który zwykle przekładają się na predykcję bliską 50%."
   ]
  },
  {
   "cell_type": "markdown",
   "metadata": {},
   "source": [
    "### Podsumowanie\n",
    "- dużo obserwacje o najwiekszej niepewności predykcji dotyczą klijentów którzy zrezygnowali\n",
    "- najwiekszy wpływ ma `Total_Revolving_Bal` oraz `Total_Trans_Amt` \n",
    "- niepewna predykcj może wynikać z braku innych zmiennych o wpływowych wartościach "
   ]
  }
 ],
 "metadata": {
  "kernelspec": {
   "display_name": "Python 3",
   "language": "python",
   "name": "python3"
  },
  "language_info": {
   "codemirror_mode": {
    "name": "ipython",
    "version": 3
   },
   "file_extension": ".py",
   "mimetype": "text/x-python",
   "name": "python",
   "nbconvert_exporter": "python",
   "pygments_lexer": "ipython3",
   "version": "3.8.8"
  }
 },
 "nbformat": 4,
 "nbformat_minor": 4
}
