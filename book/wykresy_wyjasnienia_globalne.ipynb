{
 "cells": [
  {
   "cell_type": "code",
   "execution_count": null,
   "id": "balanced-appraisal",
   "metadata": {},
   "outputs": [],
   "source": [
    "import dalex as dx\n",
    "import pandas as pd\n",
    "import pickle\n",
    "import xgboost as xgb\n",
    "\n",
    "from sklearn.ensemble import RandomForestClassifier\n",
    "from sklearn.model_selection import train_test_split\n",
    "from IPython.display import Image # do zapisywania wykresów"
   ]
  },
  {
   "cell_type": "code",
   "execution_count": null,
   "id": "hawaiian-storm",
   "metadata": {},
   "outputs": [],
   "source": [
    "!pip install -U kaleido"
   ]
  },
  {
   "cell_type": "markdown",
   "id": "compliant-throw",
   "metadata": {},
   "source": [
    "Potrzebujemy do zapisania wykresów do pliku"
   ]
  },
  {
   "cell_type": "code",
   "execution_count": null,
   "id": "scenic-plastic",
   "metadata": {},
   "outputs": [],
   "source": [
    "rf_color = '#8bdcbe'\n",
    "xgb_color = '#4378bf'\n",
    "log_reg_color = '#ae2c87'"
   ]
  },
  {
   "cell_type": "code",
   "execution_count": null,
   "id": "cooperative-jefferson",
   "metadata": {},
   "outputs": [],
   "source": [
    "input_df = pd.read_csv('https://github.com/mini-pw/2021L-WB-XAI-1/raw/main/PraceDomowe/PracaDomowa3/Sawicki_Bartosz/new_preprocessed_dataset.csv')\n",
    "y = input_df.loc[:,'Attrition']\n",
    "X = input_df.drop('Attrition', axis='columns')\n",
    "X_train, X_test, y_train, y_test = train_test_split(X, y, random_state=14)"
   ]
  },
  {
   "cell_type": "code",
   "execution_count": null,
   "id": "revised-calibration",
   "metadata": {
    "scrolled": true
   },
   "outputs": [],
   "source": [
    "path = '../modele/'\n",
    "xgb = pickle.load(open(path + 'new_xgb_model.p', \"rb\" ))\n",
    "explainer_xgb = dx.Explainer(xgb, X_train, y_train, label='XGB')\n",
    "rf = pickle.load(open(path + 'new_random_forest_model.p', \"rb\" ))\n",
    "explainer_rf = dx.Explainer(rf, X_train, y_train, label='RF')\n",
    "reg = pickle.load(open(path + 'l1_log_reg.p', \"rb\" ))\n",
    "explainer_reg = dx.Explainer(reg, X_train, y_train, label='LogisticRegression')"
   ]
  },
  {
   "cell_type": "code",
   "execution_count": null,
   "id": "south-strategy",
   "metadata": {},
   "outputs": [],
   "source": [
    "def save_plot(path, plot):\n",
    "    with open(path, \"wb\") as binary_file:\n",
    "        binary_file.write(plot.to_image(format=\"png\", engine=\"kaleido\"))"
   ]
  },
  {
   "cell_type": "code",
   "execution_count": null,
   "id": "level-chance",
   "metadata": {
    "scrolled": false
   },
   "outputs": [],
   "source": [
    "xgb_parts = explainer_xgb.model_parts(random_state=123)\n",
    "rf_parts = explainer_rf.model_parts(random_state=123)\n",
    "plot = rf_parts.plot(xgb_parts, split='variable', vertical_spacing=0.001, max_vars=9, show=False)\n",
    "save_plot('gen_images/1-1-permutational-feature-xgb-rf.png', plot)"
   ]
  },
  {
   "cell_type": "code",
   "execution_count": null,
   "id": "permanent-discussion",
   "metadata": {},
   "outputs": [],
   "source": [
    "from sklearn.linear_model import LogisticRegression\n",
    "from sklearn.metrics import accuracy_score\n",
    "C = [.1, .2, .25, .3,.35, .4, .45, .5, .55, .6, .7, 1, 1.25, 1.5, 2, 5]\n",
    "lr_models = {}\n",
    "for c in C:\n",
    "    lr = LogisticRegression(C=c, penalty='l1', solver='liblinear', max_iter=1000, random_state=123).fit(X_train, y_train)\n",
    "    print('{:3} accuracy: {:2.2%}'.format(c, accuracy_score(y_test, lr.predict(X_test))))\n",
    "    lr_models[c] = lr\n",
    "    \n",
    "    \n",
    "explainers = []\n",
    "for row in lr_models.items():\n",
    "    explainer = dx.Explainer(row[1], X_train, y_train, label='log_reg(c={:3})'.format(row[0]), verbose=0)\n",
    "    explainers.append(explainer)"
   ]
  },
  {
   "cell_type": "code",
   "execution_count": null,
   "id": "median-charge",
   "metadata": {
    "scrolled": true
   },
   "outputs": [],
   "source": [
    "model_parts = []\n",
    "for explainer in explainers:\n",
    "    model_parts.append(explainer.model_parts(random_state=123, variables=[\"Total_Revolving_Bal\"]))\n",
    "\n",
    "plot = model_parts[0].plot(model_parts[1:], split='variable', vertical_spacing=0.001, max_vars=21, show=False)\n",
    "new_colors = [log_reg_color]*16 # tworzymy liste kolorów o takiej długości, ile jest słupków\n",
    "plot.data[0]['marker']['color'] = tuple(new_colors)\n",
    "save_plot('gen_images/1-1-pfi-log-reg-group-total-revolving-bal.png', plot)"
   ]
  },
  {
   "cell_type": "code",
   "execution_count": null,
   "id": "constant-confirmation",
   "metadata": {
    "scrolled": true
   },
   "outputs": [],
   "source": [
    "model_parts = []\n",
    "for explainer in explainers:\n",
    "    model_parts.append(explainer.model_parts(random_state=123, variables=[\"Total_Ct_Chng_Q4_Q1\"]))\n",
    "\n",
    "plot = model_parts[0].plot(model_parts[1:], split='variable', vertical_spacing=0.001, max_vars=21, show=False)\n",
    "new_colors = [log_reg_color]*16 # tworzymy liste kolorów o takiej długości, ile jest słupków\n",
    "plot.data[0]['marker']['color'] = tuple(new_colors)\n",
    "save_plot('gen_images/1-1-pfi-log-reg-group-total-ct-chng.png', plot)"
   ]
  },
  {
   "cell_type": "code",
   "execution_count": null,
   "id": "statistical-clause",
   "metadata": {},
   "outputs": [],
   "source": [
    "model_parts = []\n",
    "for explainer in explainers:\n",
    "    model_parts.append(explainer.model_parts(random_state=123, variables=[\"Gender\"]))\n",
    "\n",
    "plot = model_parts[0].plot(model_parts[1:], split='variable', vertical_spacing=0.001, max_vars=21, show=False)\n",
    "new_colors = [log_reg_color]*16 # tworzymy liste kolorów o takiej długości, ile jest słupków\n",
    "plot.data[0]['marker']['color'] = tuple(new_colors)\n",
    "save_plot('gen_images/1-1-pfi-log-reg-group-gender.png', plot)"
   ]
  },
  {
   "cell_type": "code",
   "execution_count": null,
   "id": "oriental-server",
   "metadata": {},
   "outputs": [],
   "source": [
    "model_parts = []\n",
    "for explainer in explainers:\n",
    "    model_parts.append(explainer.model_parts(random_state=123, variables=[\"Avg_Utilization_Ratio\"]))\n",
    "\n",
    "plot = model_parts[0].plot(model_parts[1:], split='variable', vertical_spacing=0.001, max_vars=21, show=False)\n",
    "new_colors = [log_reg_color]*16 # tworzymy liste kolorów o takiej długości, ile jest słupków\n",
    "plot.data[0]['marker']['color'] = tuple(new_colors)\n",
    "save_plot('gen_images/1-1-pfi-log-reg-group-utilization.png', plot)"
   ]
  },
  {
   "cell_type": "markdown",
   "id": "disabled-certification",
   "metadata": {},
   "source": [
    "## Tu dam wszystkie 4 zmienne opisane w artykule na jednym wykresie"
   ]
  },
  {
   "cell_type": "code",
   "execution_count": null,
   "id": "analyzed-arbor",
   "metadata": {
    "scrolled": true
   },
   "outputs": [],
   "source": [
    "model_parts = []\n",
    "for explainer in explainers:\n",
    "    model_parts.append(explainer.model_parts(random_state=123, \n",
    "                variables=[\"Avg_Utilization_Ratio\", \"Gender\", \"Total_Ct_Chng_Q4_Q1\", \"Total_Revolving_Bal\"]))\n",
    "\n",
    "plot = model_parts[0].plot(model_parts[1:], split='variable', vertical_spacing=0.01, max_vars=21, show=False)\n",
    "new_colors = [log_reg_color]*16 # tworzymy liste kolorów o takiej długości, ile jest słupków\n",
    "plot.data[0]['marker']['color'] = tuple(new_colors)\n",
    "plot.data[1]['marker']['color'] = tuple(new_colors)\n",
    "plot.data[2]['marker']['color'] = tuple(new_colors)\n",
    "plot.data[3]['marker']['color'] = tuple(new_colors)\n",
    "save_plot('gen_images/1-1-pfi-log-reg-group-4-vars.png', plot)"
   ]
  },
  {
   "cell_type": "markdown",
   "id": "powerful-personality",
   "metadata": {},
   "source": [
    "## Wykresy regresji oraz XGB i RF"
   ]
  },
  {
   "cell_type": "code",
   "execution_count": null,
   "id": "coral-perth",
   "metadata": {},
   "outputs": [],
   "source": [
    "explainers.append(explainer_xgb)\n",
    "explainers.append(explainer_rf)"
   ]
  },
  {
   "cell_type": "markdown",
   "id": "planned-protection",
   "metadata": {},
   "source": [
    "## Dla 4 zmiennych"
   ]
  },
  {
   "cell_type": "code",
   "execution_count": null,
   "id": "painful-russia",
   "metadata": {
    "scrolled": true
   },
   "outputs": [],
   "source": [
    "model_parts = []\n",
    "for explainer in explainers:\n",
    "    model_parts.append(explainer.model_parts(random_state=123, \n",
    "                variables=[\"Avg_Utilization_Ratio\", \"Gender\", \"Total_Trans_Amt\", \"Total_Revolving_Bal\"]))\n",
    "\n",
    "plot = model_parts[0].plot(model_parts[1:], split='variable', vertical_spacing=0.01, max_vars=21, show=False)\n",
    "new_colors = [log_reg_color]*16 # tworzymy liste kolorów o takiej długości, ile jest słupków\n",
    "new_colors.append(xgb_color)\n",
    "new_colors.append(rf_color)\n",
    "\n",
    "plot.data[0]['marker']['color'] = tuple(new_colors)\n",
    "plot.data[1]['marker']['color'] = tuple(new_colors)\n",
    "plot.data[2]['marker']['color'] = tuple(new_colors)\n",
    "plot.data[3]['marker']['color'] = tuple(new_colors)\n",
    "save_plot('gen_images/1-1-pfi-all-models-4-vars.png', plot)"
   ]
  },
  {
   "cell_type": "markdown",
   "id": "separate-vector",
   "metadata": {},
   "source": [
    "## Dla pojedynczych zmiennych"
   ]
  },
  {
   "cell_type": "code",
   "execution_count": null,
   "id": "hindu-minimum",
   "metadata": {},
   "outputs": [],
   "source": [
    "model_parts = []\n",
    "for explainer in explainers:\n",
    "    model_parts.append(explainer.model_parts(random_state=123, variables=[\"Avg_Utilization_Ratio\"]))\n",
    "\n",
    "plot = model_parts[0].plot(model_parts[1:], split='variable', vertical_spacing=0.001, max_vars=21, show=False)\n",
    "new_colors = [log_reg_color]*16 # tworzymy liste kolorów o takiej długości, ile jest słupków\n",
    "new_colors.append(xgb_color)\n",
    "new_colors.append(rf_color)\n",
    "plot.data[0]['marker']['color'] = tuple(new_colors)\n",
    "save_plot('gen_images/1-1-pfi-all-models-utilization-ratio.png', plot)"
   ]
  },
  {
   "cell_type": "code",
   "execution_count": null,
   "id": "lovely-nicaragua",
   "metadata": {},
   "outputs": [],
   "source": [
    "model_parts = []\n",
    "for explainer in explainers:\n",
    "    model_parts.append(explainer.model_parts(random_state=123, variables=[\"Total_Trans_Amt\"]))\n",
    "\n",
    "plot = model_parts[0].plot(model_parts[1:], split='variable', vertical_spacing=0.001, max_vars=21, show=False)\n",
    "new_colors = [log_reg_color]*16 # tworzymy liste kolorów o takiej długości, ile jest słupków\n",
    "new_colors.append(xgb_color)\n",
    "new_colors.append(rf_color)\n",
    "plot.data[0]['marker']['color'] = tuple(new_colors)\n",
    "save_plot('gen_images/1-1-pfi-all-models-total-trans-amt.png', plot)"
   ]
  },
  {
   "cell_type": "code",
   "execution_count": null,
   "id": "black-participation",
   "metadata": {},
   "outputs": [],
   "source": [
    "model_parts = []\n",
    "for explainer in explainers:\n",
    "    model_parts.append(explainer.model_parts(random_state=123, variables=[\"Total_Revolving_Bal\"]))\n",
    "\n",
    "plot = model_parts[0].plot(model_parts[1:], split='variable', vertical_spacing=0.001, max_vars=21, show=False)\n",
    "new_colors = [log_reg_color]*16 # tworzymy liste kolorów o takiej długości, ile jest słupków\n",
    "new_colors.append(xgb_color)\n",
    "new_colors.append(rf_color)\n",
    "plot.data[0]['marker']['color'] = tuple(new_colors)\n",
    "save_plot('gen_images/1-1-pfi-all-models-total-revolving-bal.png', plot)"
   ]
  },
  {
   "cell_type": "code",
   "execution_count": null,
   "id": "eleven-anatomy",
   "metadata": {},
   "outputs": [],
   "source": [
    "model_parts = []\n",
    "for explainer in explainers:\n",
    "    model_parts.append(explainer.model_parts(random_state=123, variables=[\"Gender\"]))\n",
    "\n",
    "plot = model_parts[0].plot(model_parts[1:], split='variable', vertical_spacing=0.001, max_vars=21, show=False)\n",
    "new_colors = [log_reg_color]*16 # tworzymy liste kolorów o takiej długości, ile jest słupków\n",
    "new_colors.append(xgb_color)\n",
    "new_colors.append(rf_color)\n",
    "plot.data[0]['marker']['color'] = tuple(new_colors)\n",
    "save_plot('gen_images/1-1-pfi-all-models-gender.png', plot)"
   ]
  },
  {
   "cell_type": "markdown",
   "id": "cordless-gentleman",
   "metadata": {},
   "source": [
    "# PDP i ALE"
   ]
  },
  {
   "cell_type": "code",
   "execution_count": null,
   "id": "living-calibration",
   "metadata": {},
   "outputs": [],
   "source": [
    "pdp_xgb = explainer_xgb.model_profile(random_state=14)\n",
    "pdp_rf = explainer_rf.model_profile(random_state=14)\n",
    "pdp_reg = explainer_reg.model_profile(random_state=14)"
   ]
  },
  {
   "cell_type": "code",
   "execution_count": null,
   "id": "representative-guess",
   "metadata": {},
   "outputs": [],
   "source": [
    "plot = pdp_xgb.plot([pdp_rf, pdp_reg], \n",
    "            variables = ['Total_Trans_Amt', 'Total_Revolving_Bal', \n",
    "                         'Contacts_Count_12_mon', 'Total_Ct_Chng_Q4_Q1', 'Gender'], \n",
    "                    show=False)\n",
    "for i in range(5):\n",
    "    plot.data[i].line.color = xgb_color\n",
    "for i in range(5,10):\n",
    "    plot.data[i].line.color = rf_color\n",
    "for i in range(10,15):\n",
    "    plot.data[i].line.color = log_reg_color\n",
    "save_plot('gen_images/1-1-pdp-chosen-vars.png', plot)"
   ]
  },
  {
   "cell_type": "code",
   "execution_count": null,
   "id": "vertical-council",
   "metadata": {
    "scrolled": false
   },
   "outputs": [],
   "source": [
    "ale_xgb = explainer_xgb.model_profile(type = 'accumulated', random_state=14)\n",
    "ale_rf = explainer_rf.model_profile(type = 'accumulated', random_state=14)\n",
    "ale_reg = explainer_reg.model_profile(type = 'accumulated', random_state=14)"
   ]
  },
  {
   "cell_type": "code",
   "execution_count": null,
   "id": "maritime-shade",
   "metadata": {},
   "outputs": [],
   "source": [
    "plot = ale_xgb.plot([ale_rf, ale_reg],\n",
    "             variables=['Total_Trans_Amt', 'Total_Revolving_Bal', \n",
    "                        'Contacts_Count_12_mon', 'Total_Ct_Chng_Q4_Q1', 'Gender'], show=False)\n",
    "for i in range(5):\n",
    "    plot.data[i].line.color = xgb_color\n",
    "for i in range(5,10):\n",
    "    plot.data[i].line.color = rf_color\n",
    "for i in range(10,15):\n",
    "    plot.data[i].line.color = log_reg_color\n",
    "save_plot('gen_images/1-1-ale-chosen-vars.png', plot)"
   ]
  },
  {
   "cell_type": "code",
   "execution_count": null,
   "id": "latter-retro",
   "metadata": {},
   "outputs": [],
   "source": [
    "ale_xgb.result['_label_'] = \"ALE_XGB\"\n",
    "pdp_xgb.result['_label_'] = \"PDP_XGB\"\n",
    "ale_xgb_color = '#7aa8e6'\n",
    "pdp_xgb_color = '#032554'\n",
    "plot = ale_xgb.plot(pdp_xgb, variables = ['Total_Trans_Amt', 'Total_Revolving_Bal', \n",
    "                         'Contacts_Count_12_mon', 'Total_Ct_Chng_Q4_Q1', 'Gender'], show=False)\n",
    "                        \n",
    "for i in range(5):\n",
    "    plot.data[i].line.color = ale_xgb_color\n",
    "for i in range(5,10):\n",
    "    plot.data[i].line.color = pdp_xgb_color\n",
    "save_plot('gen_images/1-1-ale-pdp-xgb.png', plot)"
   ]
  },
  {
   "cell_type": "code",
   "execution_count": null,
   "id": "early-flight",
   "metadata": {},
   "outputs": [],
   "source": [
    "ale_rf.result['_label_'] = \"ALE_RF\"\n",
    "pdp_rf.result['_label_'] = \"PDP_RF\"\n",
    "ale_rf_color = '#abd4c5'\n",
    "pdp_rf_color = '#2cbf89'\n",
    "plot = ale_rf.plot(pdp_rf, variables = ['Total_Trans_Amt', 'Total_Revolving_Bal', \n",
    "                         'Contacts_Count_12_mon', 'Total_Ct_Chng_Q4_Q1', 'Gender'], show=False)\n",
    "                        \n",
    "for i in range(5):\n",
    "    plot.data[i].line.color = ale_rf_color\n",
    "for i in range(5,10):\n",
    "    plot.data[i].line.color = pdp_rf_color\n",
    "save_plot('gen_images/1-1-ale-pdp-rf.png', plot)"
   ]
  }
 ],
 "metadata": {
  "kernelspec": {
   "display_name": "Python 3",
   "language": "python",
   "name": "python3"
  },
  "language_info": {
   "codemirror_mode": {
    "name": "ipython",
    "version": 3
   },
   "file_extension": ".py",
   "mimetype": "text/x-python",
   "name": "python",
   "nbconvert_exporter": "python",
   "pygments_lexer": "ipython3",
   "version": "3.8.5"
  }
 },
 "nbformat": 4,
 "nbformat_minor": 5
}
